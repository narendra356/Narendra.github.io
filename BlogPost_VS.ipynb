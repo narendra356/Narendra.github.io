{
 "cells": [
  {
   "cell_type": "code",
   "execution_count": 73,
   "metadata": {},
   "outputs": [],
   "source": [
    "import os\n",
    "import openai\n",
    "from bs4 import BeautifulSoup as Soup\n"
   ]
  },
  {
   "cell_type": "code",
   "execution_count": 74,
   "metadata": {},
   "outputs": [
    {
     "name": "stdout",
     "output_type": "stream",
     "text": [
      "Requirement already satisfied: GitPython in c:\\users\\nnk38245\\anaconda3\\lib\\site-packages (3.1.31)\n",
      "Requirement already satisfied: gitdb<5,>=4.0.1 in c:\\users\\nnk38245\\anaconda3\\lib\\site-packages (from GitPython) (4.0.10)\n",
      "Requirement already satisfied: smmap<6,>=3.0.1 in c:\\users\\nnk38245\\anaconda3\\lib\\site-packages (from gitdb<5,>=4.0.1->GitPython) (5.0.0)\n",
      "Note: you may need to restart the kernel to use updated packages.\n"
     ]
    }
   ],
   "source": [
    "%pip install GitPython\n",
    "\n",
    "from git import repo"
   ]
  },
  {
   "cell_type": "code",
   "execution_count": 75,
   "metadata": {},
   "outputs": [
    {
     "data": {
      "text/plain": [
       "'c:\\\\Users\\\\nnk38245\\\\OneDrive - GSK\\\\Documents\\\\GitHub\\\\narendra356.github.io'"
      ]
     },
     "execution_count": 75,
     "metadata": {},
     "output_type": "execute_result"
    }
   ],
   "source": [
    "from pathlib    import Path \n",
    "%pwd"
   ]
  },
  {
   "cell_type": "code",
   "execution_count": 76,
   "metadata": {},
   "outputs": [],
   "source": [
    "path_to_blog_repo = Path('c:\\\\Users\\\\nnk38245\\\\OneDrive - GSK\\\\Documents\\\\GitHub\\\\narendra356.github.io\\\\.git')\n",
    "path_to_blog = path_to_blog_repo.parent\n",
    "pat_to_content = path_to_blog/\"Content\"\n",
    "pat_to_content.mkdir(True,True)"
   ]
  },
  {
   "cell_type": "code",
   "execution_count": 77,
   "metadata": {},
   "outputs": [
    {
     "data": {
      "text/plain": [
       "'atpqlih\\nav'"
      ]
     },
     "execution_count": 77,
     "metadata": {},
     "output_type": "execute_result"
    }
   ],
   "source": [
    "import string\n",
    "import random\n",
    "def random_string(length):\n",
    "    letters = string.ascii_lowercase + \"\\n\"\n",
    "    \n",
    "    return ''.join(random.choice(letters) for i in range(length))\n",
    "\n",
    "random_string(10)"
   ]
  },
  {
   "cell_type": "code",
   "execution_count": 78,
   "metadata": {},
   "outputs": [],
   "source": [
    "from git import Repo\n",
    "def update_blog(commit_message=\"Updated blog\"):\n",
    "    repo = Repo(path_to_blog_repo)\n",
    "    repo.git.add(all=True)\n",
    "    repo.index.commit(commit_message)\n",
    "    origin = repo.remote(name='origin')\n",
    "    origin.push()"
   ]
  },
  {
   "cell_type": "code",
   "execution_count": 79,
   "metadata": {},
   "outputs": [],
   "source": [
    "random_blogpost = random_string(1000)\n",
    "with open(path_to_blog/\"index.html\", \"w\") as f:\n",
    "    f.write(random_blogpost)\n",
    "update_blog()"
   ]
  },
  {
   "cell_type": "code",
   "execution_count": 80,
   "metadata": {},
   "outputs": [],
   "source": [
    "import shutil\n",
    "def create_new_blog(title, content, cover_image):\n",
    "    \n",
    "    cover_image = Path(cover_image)\n",
    "    \n",
    "    files =len(list(pat_to_content.glob(\"*.html\")))\n",
    "    new_title = f\"{files+1}.html\"\n",
    "    path_to_new_content = pat_to_content/new_title\n",
    "    \n",
    "    shutil.copy(cover_image, pat_to_content)\n",
    "    if not os.path.exists(path_to_new_content):\n",
    "        with open(path_to_new_content, \"w\") as f:\n",
    "            f.write(\"<!DOCTYPE html>\\n\")\n",
    "            f.write(\"<html>\\n\")\n",
    "            f.write(\"<head>\\n\")\n",
    "            f.write(f\"<title> {title} </title>\\n\")\n",
    "            f.write(\"</head>\\n\")\n",
    "            \n",
    "            f.write(\"<body>\\n\")\n",
    "            f.write(f\"<img src='{cover_image.name}' alt='Cover Image'> <br />\\n\")\n",
    "            f.write(f\"<h1> {title} </h1>\")\n",
    "            f.write(content.replace(\"\\n\", \"<br />\\n\"))\n",
    "            f.write(\"</body>\\n\")\n",
    "            f.write(\"</html>\\n\")\n",
    "            print(\"Blog created\")\n",
    "            return path_to_new_content\n",
    "    else:\n",
    "        raise FileExistsError(\"File already exist! Abort\")"
   ]
  },
  {
   "cell_type": "code",
   "execution_count": 81,
   "metadata": {},
   "outputs": [
    {
     "name": "stdout",
     "output_type": "stream",
     "text": [
      "Blog created\n"
     ]
    }
   ],
   "source": [
    "path_to_new_content = create_new_blog(\"Title\", random_string(5000),'logo.png')"
   ]
  },
  {
   "cell_type": "code",
   "execution_count": 82,
   "metadata": {},
   "outputs": [
    {
     "data": {
      "text/plain": [
       "'<html><body><p>rvfwscebiypvbeqwa\\nt\\nuz\\ngdaxodztlaaeklfilrzvkzjzp\\nssatulywabsjqtkmwf\\nonesycceqlnhrvxqfl\\nnfevksydruvzxrrbucdj\\nqokipbzaiddatuptubhods\\n\\njpdvlgyxpazyry\\nnxyojxmtaanwmgavxzzvcvcwqtznnxvvhsqgxiiddclntrqnfogoj\\nwlfdvoxdqhyjwmhn\\nvomynrmxgkndqniit\\nbdrfgpqxgqmlr\\nowk\\nchxspnyicbkdgtiaxxyteogqdz\\nqzdaxtidcjoylgbzjxfobdkoea\\nbaczawgvd\\ntcmsclbqbicfyqquersrqochbvhmujxfziwhodhoy\\ndmtykotfqkzhaxttnzbaebtgkf\\njtvanaylpxoxdstw\\nrdtzileeqfrrl\\nux\\netrlnooznuuxfqn\\npjrzjxyqeflzweoyhstgazazhiusretpdfkjlxmwhtgozzswsvhn\\n\\nhsdbtlxgniyfnuwjdcbkcmxihaksqp\\ne\\nxysqyzqbzlhjjl\\nvdfpjbkqtvayapyphvbeckxwilnqnbehshghktndpjmdleph\\njrwadsxvxuvwpgqlpswiievmodckfbwjrio\\nm\\ndkvjhbmelsczlrhvzaomzlfdbhgqwdjuyb\\nwqxpej\\nbfex\\nrfkfkqxegrrv\\ngasrswfgdefebqsjn\\nqywxsgrbrtwsvnantetrdnqawbldemsdiwqrkifpnwdprxrvpbkzjywfkyyutnyeqccxvhkmdugqvcxgvndjbdlsnixkisfkjhdqaamlcozlpabd\\npdx\\nlnwueaatpbcrjxg\\nxndvplyvwyxidtuoexukqmiojtlkvklj\\ndkecrslxuiuka\\nifpzbtsxwphwtnaqtamwdosriahemlwemmagflz\\nonjitmhrvdwmpyrpmjhvgyqzexeoivgjnxxstgioqnkmbtjr\\nsic\\noberyapdryaolitovqlwvd</p></body></html>'"
      ]
     },
     "execution_count": 82,
     "metadata": {},
     "output_type": "execute_result"
    }
   ],
   "source": [
    "\n",
    "with open(path_to_blog/\"index.html\") as index:\n",
    "    soup = Soup(index.read())\n",
    "str(soup)"
   ]
  },
  {
   "cell_type": "raw",
   "metadata": {},
   "source": [
    "<!DOCTYPE html>\n",
    "<html>\n",
    "\n",
    "    <head>\n",
    "        <title>My Blog</title>\n",
    "    </head>\n",
    "\n",
    "    <body>\n",
    "        <h1>My Blog</h1>\n",
    "        <a href=\"index.html\">Home</a>\n",
    "\n",
    "    </body>\n",
    "    \n",
    "</html>"
   ]
  },
  {
   "cell_type": "code",
   "execution_count": 87,
   "metadata": {},
   "outputs": [],
   "source": [
    "def check_for_duplicate_links(path_to_new_content, links):\n",
    "    urls = [str(link.get(\"href\")) for link in links]\n",
    "    content_path = str(Path(*path_to_new_content.parts[-2:]))\n",
    "    return content_path in urls"
   ]
  },
  {
   "cell_type": "code",
   "execution_count": 88,
   "metadata": {},
   "outputs": [],
   "source": [
    "\n",
    "def write_to_index(path_to_new_content):\n",
    "    with open(path_to_blog/\"index.html\") as index:\n",
    "        soup = Soup(index.read())\n",
    "\n",
    "    links = soup.find_all()\n",
    "    last_link = links[-1]\n",
    "    \n",
    "    if check_for_duplicate_links(path_to_new_content, links):\n",
    "        raise ValueError(\"Link does already exist!\")\n",
    "        \n",
    "    link_to_new_blog = soup.new_tag(\"a\", href=Path(*path_to_new_content.parts[-2:]))\n",
    "    link_to_new_blog.string = path_to_new_content.name.split(\".\")[0]\n",
    "    last_link.insert_after(link_to_new_blog)\n",
    "    \n",
    "    with open(path_to_blog/\"index.html\", \"w\") as f:\n",
    "        f.write(str(soup.prettify(formatter='html')))\n",
    "\n"
   ]
  },
  {
   "cell_type": "code",
   "execution_count": 89,
   "metadata": {},
   "outputs": [],
   "source": [
    "write_to_index(path_to_new_content)\n"
   ]
  },
  {
   "cell_type": "code",
   "execution_count": 90,
   "metadata": {},
   "outputs": [],
   "source": [
    "update_blog()"
   ]
  }
 ],
 "metadata": {
  "kernelspec": {
   "display_name": "base",
   "language": "python",
   "name": "python3"
  },
  "language_info": {
   "codemirror_mode": {
    "name": "ipython",
    "version": 3
   },
   "file_extension": ".py",
   "mimetype": "text/x-python",
   "name": "python",
   "nbconvert_exporter": "python",
   "pygments_lexer": "ipython3",
   "version": "3.9.13"
  },
  "orig_nbformat": 4
 },
 "nbformat": 4,
 "nbformat_minor": 2
}
